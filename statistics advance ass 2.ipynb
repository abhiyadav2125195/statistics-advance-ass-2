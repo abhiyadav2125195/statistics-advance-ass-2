{
 "cells": [
  {
   "cell_type": "markdown",
   "id": "3a7ebc8f-3527-465a-9100-255eda0120ff",
   "metadata": {},
   "source": [
    "# Q1: What are the Probability Mass Function (PMF) and Probability Density Function (PDF)? Explain with an example."
   ]
  },
  {
   "cell_type": "markdown",
   "id": "d862db7d-4930-411f-9f4a-1430d5e542a1",
   "metadata": {},
   "source": [
    "Probability Mass Function (PMF):\n",
    "The PMF is used for discrete random variables. It gives the probability of the random variable taking on a specific value. In other words, it maps each possible value of the random variable to its probability.\n",
    "\n",
    "Mathematically, for a discrete random variable X, the PMF is denoted as P(X = x), where \"x\" is a specific value. The PMF satisfies two key properties:\n",
    "\n",
    "It is non-negative: P(X = x) ≥ 0 for all x.\n",
    "The sum of the probabilities over all possible values equals 1: Σ P(X = x) = 1 over all possible x.\n",
    "Probability Density Function (PDF):\n",
    "The PDF is used for continuous random variables. It represents the likelihood of the random variable falling within a certain range or interval. Unlike the PMF, which gives actual probabilities for specific values, the PDF gives the relative likelihood of values within an interval.\n",
    "\n",
    "Mathematically, for a continuous random variable X, the PDF is denoted as f(x). The PDF also has two key properties:\n",
    "\n",
    "It is non-negative: f(x) ≥ 0 for all x.\n",
    "The area under the PDF curve over the entire range equals 1: ∫ f(x) dx = 1 over the entire range of x.\n",
    "Example:\n",
    "Let's consider two examples, one for a discrete random variable and another for a continuous random variable:\n",
    "\n",
    "Discrete Example (PMF):\n",
    "Imagine rolling a fair six-sided die. The random variable X represents the outcome of the roll. The PMF for X is:\n",
    "\n",
    "P(X = 1) = P(X = 2) = P(X = 3) = P(X = 4) = P(X = 5) = P(X = 6) = 1/6\n",
    "\n",
    "Here, each value from 1 to 6 has an equal probability of 1/6.\n",
    "\n",
    "Continuous Example (PDF):\n",
    "Consider the height of adults. The random variable Y represents the height. The PDF for Y could be modeled using a normal distribution. The PDF provides information about the likelihood of finding adults with different heights within a range. For example, a taller range might have a higher PDF value, indicating that heights in that range are more likely to occur."
   ]
  },
  {
   "cell_type": "markdown",
   "id": "cf86ec73-5d73-4730-bdcf-ca398893ebc0",
   "metadata": {},
   "source": [
    "# Q2: What is Cumulative Density Function (CDF)? Explain with an example. Why CDF is used?"
   ]
  },
  {
   "cell_type": "markdown",
   "id": "ab15af68-03f2-48a4-9226-7545dcde3fce",
   "metadata": {},
   "source": [
    "The Cumulative Distribution Function (CDF) is a fundamental concept in probability theory and statistics. It provides a way to describe the cumulative probability that a random variable takes on a value less than or equal to a given value. In essence, the CDF gives you the probability of observing a value less than or equal to a specific point on the distribution's range.\n",
    "\n",
    "Mathematically, for a random variable X, the CDF is denoted as F(x) and is defined as:\n",
    "\n",
    "F(x) = P(X ≤ x)\n",
    "\n",
    "In words, the CDF at a particular value 'x' represents the probability that the random variable X is less than or equal to 'x'. The CDF has several important properties:\n",
    "\n",
    "Monotonicity: The CDF is a non-decreasing function, meaning that as 'x' increases, the CDF also increases or remains the same.\n",
    "\n",
    "Limits: The CDF approaches 0 as 'x' approaches negative infinity and approaches 1 as 'x' approaches positive infinity.\n",
    "\n",
    "Step Changes: The CDF increases in a stepwise manner at the points where the random variable X can change values (in the case of discrete random variables).\n",
    "\n",
    "Example:\n",
    "Let's consider an example using a discrete random variable. Imagine rolling a fair six-sided die. The random variable X represents the outcome of the roll. The CDF for X is:\n",
    "\n",
    "F(x) = P(X ≤ x)\n",
    "\n",
    "For each value of 'x', the CDF gives the cumulative probability of obtaining a value less than or equal to 'x'. For a fair six-sided die:\n",
    "\n",
    "F(1) = P(X ≤ 1) = 1/6 (rolling a 1)\n",
    "F(2) = P(X ≤ 2) = 2/6 = 1/3 (rolling a 1 or a 2)\n",
    "F(3) = P(X ≤ 3) = 3/6 = 1/2 (rolling a 1, 2, or 3)\n",
    "F(4) = P(X ≤ 4) = 4/6 = 2/3 (rolling a 1, 2, 3, or 4)\n",
    "F(5) = P(X ≤ 5) = 5/6 (rolling a 1, 2, 3, 4, or 5)\n",
    "F(6) = P(X ≤ 6) = 6/6 = 1 (rolling any number)\n",
    "The CDF gives you a comprehensive view of the probabilities associated with different ranges of values in a distribution. It's used to answer questions like \"What is the probability that the random variable is less than or equal to a certain value?\" and helps in making decisions based on probabilities."
   ]
  },
  {
   "cell_type": "markdown",
   "id": "2ac173a3-2708-45f4-beaf-f2beb7dfe3d8",
   "metadata": {},
   "source": [
    "# Q3: What are some examples of situations where the normal distribution might be used as a model? Explain how the parameters of the normal distribution relate to the shape of the distribution."
   ]
  },
  {
   "cell_type": "markdown",
   "id": "50720962-c0ac-4312-b2aa-0b55396c2625",
   "metadata": {},
   "source": [
    "Height of Individuals: The heights of people in a population often follow a normal distribution. Most people cluster around the average height, with fewer individuals being significantly shorter or taller.\n",
    "\n",
    "Test Scores: In large-scale educational testing, the scores on standardized tests like the SAT or GRE often exhibit a normal distribution. Many students score near the mean, while fewer score much higher or lower.\n",
    "\n",
    "Measurement Errors: In scientific experiments, measurement errors or experimental noise often follow a normal distribution.\n",
    "\n",
    "Financial Data: Stock prices, returns, and other financial metrics in the stock market often exhibit normal distribution characteristics.\n",
    "\n",
    "Biological Phenomena: Biological measurements such as enzyme activity, gene expression, and metabolic rates can sometimes be modeled using the normal distribution.\n",
    "\n",
    "IQ Scores: Intelligence quotient (IQ) scores in a large population tend to follow a normal distribution, with most people having average scores and fewer having very high or very low scores.\n",
    "\n",
    "Parameters of the Normal Distribution:\n",
    "The normal distribution is characterized by two parameters: the mean (μ) and the standard deviation (σ). These parameters play a crucial role in determining the shape of the distribution:\n",
    "\n",
    "Mean (μ): The mean is the central value around which the data is symmetrically distributed. It is also the peak of the normal distribution. Shifting the mean to the right or left causes the distribution to shift accordingly while maintaining its symmetry.\n",
    "\n",
    "Standard Deviation (σ): The standard deviation controls the spread or dispersion of the data. A larger standard deviation results in a wider distribution, while a smaller standard deviation makes the distribution narrower."
   ]
  },
  {
   "cell_type": "markdown",
   "id": "7b10bde1-275e-4376-83d5-3d685334cac1",
   "metadata": {},
   "source": [
    "# Q4: Explain the importance of Normal Distribution. Give a few real-life examples of Normal Distribution."
   ]
  },
  {
   "cell_type": "markdown",
   "id": "a5eef6ae-ea5c-4055-8813-44fd696777ca",
   "metadata": {},
   "source": [
    "Height: Heights of individuals in a large population often follow a normal distribution. Most people are close to the average height, with fewer being significantly shorter or taller.\n",
    "\n",
    "Test Scores: Scores on standardized tests, like SAT or IQ tests, often exhibit a normal distribution. Many people score around the average, and fewer score extremely high or low.\n",
    "\n",
    "Weights: In some populations, weights of people can approximately follow a normal distribution, with most individuals clustering around the average weight.\n",
    "\n",
    "Measurement Errors: Measurement errors in scientific experiments often exhibit a normal distribution, making the normal distribution a suitable model for uncertainties in measurements.\n",
    "\n",
    "Reaction Times: Human reaction times in response to stimuli often follow a normal distribution.\n",
    "\n",
    "Blood Pressure: Blood pressure measurements in a population can often be well-modeled by a normal distribution."
   ]
  },
  {
   "cell_type": "markdown",
   "id": "4e5bf2de-0797-423f-842c-9ef7bfe575cc",
   "metadata": {},
   "source": [
    "# Q5: What is Bernaulli Distribution? Give an Example. What is the difference between Bernoulli Distribution and Binomial Distribution?"
   ]
  },
  {
   "cell_type": "markdown",
   "id": "600cf548-f6b8-40cb-ac4e-b262b7f96088",
   "metadata": {},
   "source": [
    "The Bernoulli distribution is a simple and fundamental discrete probability distribution that models a single binary outcome in an experiment or trial. It's named after Jacob Bernoulli, a Swiss mathematician who contributed to probability theory. The Bernoulli distribution deals with situations where an event can have one of two possible outcomes: success (usually denoted as \"1\") or failure (usually denoted as \"0\").\n",
    "\n",
    "Difference between Bernoulli Distribution and Binomial Distribution:\n",
    "The Bernoulli distribution and the Binomial distribution are related concepts, but they differ in the number of trials involved:\n",
    "\n",
    "Bernoulli Distribution:\n",
    "\n",
    "Models a single trial with two possible outcomes: success (1) or failure (0).\n",
    "Only one parameter: the probability of success 'p'.\n",
    "Used for modeling a single binary event.\n",
    "Binomial Distribution:\n",
    "\n",
    "Models the number of successes in a fixed number ('n') of independent Bernoulli trials.\n",
    "Parameters: the number of trials 'n' and the probability of success 'p'.\n",
    "Describes the distribution of possible counts of successes in multiple trials."
   ]
  },
  {
   "cell_type": "markdown",
   "id": "dd65819f-3fc7-4d4d-b87b-db8c0ff78fd6",
   "metadata": {},
   "source": [
    "# Q6. Consider a dataset with a mean of 50 and a standard deviation of 10. If we assume that the dataset is normally distributed, what is the probability that a randomly selected observation will be greater than 60? Use the appropriate formula and show your calculations."
   ]
  },
  {
   "cell_type": "markdown",
   "id": "1fae95da-6ad1-4bdd-989a-d3a71792c9c8",
   "metadata": {},
   "source": [
    "z = (x - μ) / σ\n",
    "\n",
    "where x is 60, μ is 50, and σ is 10:\n",
    "\n",
    "z = (60 - 50) / 10 = 1.0\n",
    "\n",
    "Now, we can use the standard normal distribution table or calculator to find the probability corresponding to a z-score of 1.0.\n",
    "\n",
    "Using the cumulative distribution function (CDF) of the standard normal distribution, the probability that a z-score is greater than 1.0 is approximately 0.1587.\n",
    "\n",
    "Therefore, the probability that a randomly selected observation will be greater than 60 is approximately 0.1587, or about 15.87%."
   ]
  },
  {
   "cell_type": "markdown",
   "id": "697cd167-97b7-4a9c-8578-84f38aa20c4e",
   "metadata": {},
   "source": [
    "# Q7: Explain uniform Distribution with an example."
   ]
  },
  {
   "cell_type": "markdown",
   "id": "db102a73-ee40-4fe5-8e37-b9759e1e55a3",
   "metadata": {},
   "source": [
    "\n",
    "The uniform distribution is a probability distribution in which all possible outcomes are equally likely. In other words, every value within a specific range has the same probability of occurring. The uniform distribution is often visualized as a rectangle, where the height of the rectangle represents the probability density for each value.\n",
    "\n",
    "Example of Uniform Distribution:\n",
    "An example of a uniform distribution is rolling a fair six-sided die. In this case, each face of the die has an equal probability of landing face up, and there are no preferred outcomes. The possible outcomes are 1, 2, 3, 4, 5, and 6, each with a probability of 1/6."
   ]
  },
  {
   "cell_type": "markdown",
   "id": "c682d17f-d736-4d7b-a997-d22861f3c589",
   "metadata": {},
   "source": [
    "# Q8: What is the z score? State the importance of the z score."
   ]
  },
  {
   "cell_type": "markdown",
   "id": "1a483b60-6f30-4cfb-acf9-90f05f16020f",
   "metadata": {},
   "source": [
    "The z-score, also known as the standard score, is a measure that indicates how many standard deviations a data point is away from the mean of a distribution. It's a standardized value that allows you to compare and analyze data points from different distributions on a common scale. The formula to calculate the z-score is:\n",
    "\n",
    "z = (x - μ) / σ\n",
    "\n",
    "where:\n",
    "\n",
    "z is the z-score\n",
    "x is the value you're interested in\n",
    "μ is the mean of the distribution\n",
    "σ is the standard deviation of the distribution\n",
    "The z-score tells you whether a data point is above or below the mean, and by how many standard deviations. A positive z-score indicates that the data point is above the mean, while a negative z-score indicates that it's below the mean.\n",
    "\n",
    "Importance of the z-score:\n",
    "\n",
    "Standardization: The z-score standardizes data, allowing you to compare and analyze values from different distributions that might have different units or scales. This makes it easier to identify outliers and extreme values.\n",
    "\n",
    "Normal Distribution: In a normal distribution, the z-score allows you to determine the relative position of a data point within the distribution. You can use z-scores to calculate percentiles and assess how likely or unusual an observation is within the context of the distribution.\n",
    "\n",
    "Identifying Outliers: A z-score significantly far from 0 (either positive or negative) indicates that a data point is far from the mean and might be an outlier or worth investigating.\n",
    "\n",
    "Hypothesis Testing: In hypothesis testing, z-scores help you assess the significance of results by comparing sample means or proportions to population parameters.\n",
    "\n",
    "Standard Normal Distribution: When data follows a normal distribution, you can convert values to z-scores and use the standard normal distribution table to find corresponding probabilities. This is crucial for statistical calculations and hypothesis testing."
   ]
  },
  {
   "cell_type": "markdown",
   "id": "965396f2-846c-4c35-934e-650e2f7afb34",
   "metadata": {},
   "source": [
    "# Q9: What is Central Limit Theorem? State the significance of the Central Limit Theorem."
   ]
  },
  {
   "cell_type": "markdown",
   "id": "658474e3-cecf-419d-af41-86fcda043ecc",
   "metadata": {},
   "source": [
    "The Central Limit Theorem (CLT) is a fundamental theorem in statistics that describes the behavior of the distribution of sample means from a population, regardless of the shape of the original population distribution. In essence, the Central Limit Theorem states that as the sample size increases, the distribution of the sample means approaches a normal distribution, regardless of the underlying distribution of the population.\n",
    "\n",
    "Key Points of the Central Limit Theorem:\n",
    "\n",
    "Sample Size: The Central Limit Theorem is most applicable when the sample size is sufficiently large (usually considered to be at least 30 observations). However, even with smaller sample sizes, the CLT can still provide some level of approximation.\n",
    "\n",
    "Independence: The individual observations in the sample should be independent of each other.\n",
    "\n",
    "Random Sampling: The samples should be drawn randomly from the population.\n",
    "\n",
    "Population Distribution: The Central Limit Theorem does not require the population to be normally distributed. The original population distribution can be any shape, as long as the sample size is sufficiently large."
   ]
  },
  {
   "cell_type": "code",
   "execution_count": null,
   "id": "7a83a854-b714-4f9d-a329-117191fbe322",
   "metadata": {},
   "outputs": [],
   "source": []
  }
 ],
 "metadata": {
  "kernelspec": {
   "display_name": "Python 3 (ipykernel)",
   "language": "python",
   "name": "python3"
  },
  "language_info": {
   "codemirror_mode": {
    "name": "ipython",
    "version": 3
   },
   "file_extension": ".py",
   "mimetype": "text/x-python",
   "name": "python",
   "nbconvert_exporter": "python",
   "pygments_lexer": "ipython3",
   "version": "3.10.8"
  }
 },
 "nbformat": 4,
 "nbformat_minor": 5
}
